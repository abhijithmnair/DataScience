{
 "cells": [
  {
   "cell_type": "code",
   "execution_count": 9,
   "metadata": {},
   "outputs": [
    {
     "name": "stdout",
     "output_type": "stream",
     "text": [
      "92\n",
      "92\n",
      "95\n",
      "90\n",
      "91\n",
      "A Grade\n"
     ]
    }
   ],
   "source": [
    "student_Marks=[]\n",
    "while(len(student_Marks)<5):\n",
    "    student_Marks.append(int(input())) \n",
    "    no_Subjects=no_Subjects+1\n",
    "\n",
    "avg_Marks=sum(student_Marks)/5\n",
    "if(avg_Marks>=90):\n",
    "    print('A Grade')\n",
    "elif(avg_Marks>=70 and avg_Marks<90):\n",
    "    print('B Grade')\n",
    "else:\n",
    "    print('C Grade')\n",
    "                                                   "
   ]
  },
  {
   "cell_type": "markdown",
   "metadata": {},
   "source": [
    "start_Number=int(input(\"Enter the start number\"))\n",
    "end_Number=int(input(\"Enter the last number\"))\n",
    "while(start_Number<=end_Number):\n",
    "    if(start_Number%5==0 and start_Number%7==0):\n",
    "        print(start_Number)\n",
    "    start_Number=start_Number+1    "
   ]
  },
  {
   "cell_type": "code",
   "execution_count": 28,
   "metadata": {},
   "outputs": [
    {
     "name": "stdout",
     "output_type": "stream",
     "text": [
      "24\n"
     ]
    }
   ],
   "source": [
    "def getFactorialNumber(inputNumber):\n",
    "    factorial=1\n",
    "    for num in range(factorial,inputNumber+1):\n",
    "        factorial=factorial*num  \n",
    "    print(factorial)\n",
    "    \n",
    "\n",
    "getFactorialNumber(4)\n"
   ]
  },
  {
   "cell_type": "code",
   "execution_count": 26,
   "metadata": {},
   "outputs": [
    {
     "name": "stdout",
     "output_type": "stream",
     "text": [
      "3\n",
      "15\n",
      "30\n"
     ]
    }
   ],
   "source": [
    "def getMaxValue(a,b,c):\n",
    "    print(max(a,b,c))\n",
    "\n",
    "getMaxValue(1,2,3)\n",
    "getMaxValue(15,2,3)\n",
    "getMaxValue(16,0,30)    "
   ]
  },
  {
   "cell_type": "code",
   "execution_count": 54,
   "metadata": {},
   "outputs": [
    {
     "name": "stdout",
     "output_type": "stream",
     "text": [
      "*\n",
      "**\n",
      "***\n",
      "****\n",
      "*****\n",
      "****\n",
      "***\n",
      "**\n",
      "*\n",
      "\n"
     ]
    }
   ],
   "source": [
    "tree=\"\"\n",
    "for num in range(5):\n",
    "    tree=tree+(\"*\")\n",
    "    print(tree)\n",
    "\n",
    "for num in range(len(tree)):\n",
    "    tree=tree[:-1]\n",
    "    print(tree)\n"
   ]
  },
  {
   "cell_type": "code",
   "execution_count": 119,
   "metadata": {},
   "outputs": [
    {
     "name": "stdout",
     "output_type": "stream",
     "text": [
      "*\n",
      "**\n",
      "***\n",
      "****\n",
      "*****\n",
      "****\n",
      "***\n",
      "**\n",
      "*\n",
      "completed\n"
     ]
    }
   ],
   "source": [
    "def printTree(param,isMaxWidthReachedOnce,maxWidth):\n",
    "    \n",
    "    if(len(param)==maxWidth and isMaxWidthReachedOnce==False):\n",
    "        isMaxWidthReachedOnce=True\n",
    "        \n",
    "    if(isMaxWidthReachedOnce and len(param)>=1):\n",
    "        print(param)\n",
    "        printTree(param[:-1],isMaxWidthReachedOnce,maxWidth)\n",
    "        \n",
    "    elif(len(param)<=maxWidth and isMaxWidthReachedOnce==False):\n",
    "        print(param);\n",
    "        param=param+\"*\";\n",
    "        printTree(param,isMaxWidthReachedOnce,maxWidth)\n",
    "        \n",
    "    return\n",
    "    \n",
    "printTree(\"*\",False,5)\n",
    "print(\"completed\")\n"
   ]
  },
  {
   "cell_type": "code",
   "execution_count": null,
   "metadata": {},
   "outputs": [],
   "source": []
  }
 ],
 "metadata": {
  "kernelspec": {
   "display_name": "Python 3",
   "language": "python",
   "name": "python3"
  },
  "language_info": {
   "codemirror_mode": {
    "name": "ipython",
    "version": 3
   },
   "file_extension": ".py",
   "mimetype": "text/x-python",
   "name": "python",
   "nbconvert_exporter": "python",
   "pygments_lexer": "ipython3",
   "version": "3.8.5"
  }
 },
 "nbformat": 4,
 "nbformat_minor": 4
}
