{
 "cells": [
  {
   "cell_type": "markdown",
   "metadata": {},
   "source": [
    "### The questions for the exercises are given above the cells and the expected output is given below the cell. Please type the code inserting a new cell below the question because if you run the expected output cell the output would vanish! Happy learning! "
   ]
  },
  {
   "cell_type": "markdown",
   "metadata": {},
   "source": [
    "## Exercise Question 1: Given an input list removes the element at index 4 and add it to the 2nd position and also, at the end of the list"
   ]
  },
  {
   "cell_type": "code",
   "execution_count": 10,
   "metadata": {},
   "outputs": [
    {
     "name": "stdout",
     "output_type": "stream",
     "text": [
      "Original list [34, 54, 67, 89, 11, 43, 94]\n",
      "List After removing element at index 4 [34, 54, 67, 89, 43, 94]\n",
      "Adding element at index 2 [34, 54, 11, 67, 89, 43, 94]\n",
      "List after Adding element at last [34, 54, 11, 67, 89, 43, 94, 11]\n"
     ]
    }
   ],
   "source": [
    "original_List=[34, 54, 67, 89, 11, 43, 94]\n",
    "print('Original list',original_List)\n",
    "element_ToAdd=original_List.pop(4)\n",
    "print('List After removing element at index 4',original_List)\n",
    "original_List.insert(2,element_ToAdd)\n",
    "print('Adding element at index 2',original_List)\n",
    "original_List.insert(len(original_List),element_ToAdd)\n",
    "print('List after Adding element at last',original_List)"
   ]
  },
  {
   "cell_type": "code",
   "execution_count": 1,
   "metadata": {},
   "outputs": [
    {
     "name": "stdout",
     "output_type": "stream",
     "text": [
      "Original list  [34, 54, 67, 89, 11, 43, 94]\n",
      "List After removing element at index 4  [34, 54, 67, 89, 43, 94]\n",
      "List after Adding element at index 2  [34, 54, 11, 67, 89, 43, 94]\n",
      "List after Adding element at last  [34, 54, 11, 67, 89, 43, 94, 11]\n"
     ]
    }
   ],
   "source": []
  },
  {
   "cell_type": "markdown",
   "metadata": {},
   "source": [
    "## Exercise Question 2: Given a Python list you should be able to display Python list in the following order"
   ]
  },
  {
   "cell_type": "code",
   "execution_count": 17,
   "metadata": {},
   "outputs": [
    {
     "name": "stdout",
     "output_type": "stream",
     "text": [
      "The Original List is: [100, 200, 300, 400, 500]\n",
      "The Expected result is: [500, 400, 300, 200, 100]\n",
      "The Expected result is: [500, 400, 300, 200, 100]\n"
     ]
    }
   ],
   "source": [
    "original_List=[100, 200, 300, 400, 500]\n",
    "print('The Original List is:', original_List)\n",
    "#Method 1\n",
    "print('The Expected result is:', original_List[::-1])\n",
    "#Method 2\n",
    "original_List.reverse()\n",
    "print('The Expected result is:',original_List )"
   ]
  },
  {
   "cell_type": "code",
   "execution_count": 2,
   "metadata": {},
   "outputs": [
    {
     "name": "stdout",
     "output_type": "stream",
     "text": [
      "The Original List is: [100, 200, 300, 400, 500]\n",
      "The Expected result is:  [500, 400, 300, 200, 100]\n"
     ]
    }
   ],
   "source": []
  },
  {
   "cell_type": "markdown",
   "metadata": {},
   "source": [
    "## Exercise Question 3: Concatenate (join) two lists in the following order\n"
   ]
  },
  {
   "cell_type": "code",
   "execution_count": null,
   "metadata": {},
   "outputs": [],
   "source": []
  },
  {
   "cell_type": "code",
   "execution_count": 24,
   "metadata": {},
   "outputs": [
    {
     "name": "stdout",
     "output_type": "stream",
     "text": [
      "The original list1: ['Hello ', 'take ']\n",
      "The original list2: ['Dear', 'Sir']\n",
      "The Expected result is: ['Hello ', 'take ', 'Dear', 'Sir']\n",
      "The original list1: ['Hello ', 'take ']\n",
      "The original list2: ['Dear', 'Sir']\n",
      "The Expected result is: ['Hello ', 'take ', 'Dear', 'Sir']\n",
      "The original list1: ['Hello ', 'take ']\n",
      "The original list2: ['Dear', 'Sir']\n",
      "The Expected result is: ['Hello ', 'take ', 'Dear', 'Sir']\n"
     ]
    }
   ],
   "source": [
    "#Method 1\n",
    "original_List1=['Hello ', 'take ']\n",
    "original_List2=['Dear', 'Sir']\n",
    "print('The original list1:', original_List1)\n",
    "print('The original list2:', original_List2)\n",
    "print('The Expected result is:', original_List1+original_List2)\n",
    "\n",
    "#Method 2\n",
    "original_List1=['Hello ', 'take ']\n",
    "original_List2=['Dear', 'Sir']\n",
    "print('The original list1:', original_List1)\n",
    "print('The original list2:', original_List2)\n",
    "original_List1.extend(original_List2)\n",
    "print('The Expected result is:',original_List1 )\n",
    "\n",
    "#Method 3\n",
    "original_List1=['Hello ', 'take ']\n",
    "original_List2=['Dear', 'Sir']\n",
    "print('The original list1:', original_List1)\n",
    "print('The original list2:', original_List2)\n",
    "for elem in original_List2:\n",
    "    original_List1.append(elem)\n",
    "print('The Expected result is:',original_List1)"
   ]
  },
  {
   "cell_type": "code",
   "execution_count": 3,
   "metadata": {},
   "outputs": [
    {
     "name": "stdout",
     "output_type": "stream",
     "text": [
      "The original list1: ['Hello ', 'take ']\n",
      "The original list2: ['Dear', 'Sir']\n",
      "The Expected result is: ['Hello ', 'take ', 'Dear', 'Sir']\n"
     ]
    }
   ],
   "source": []
  },
  {
   "cell_type": "markdown",
   "metadata": {},
   "source": [
    "## Exercise Question 4: Add item 7000 after 6000 in the following Python List"
   ]
  },
  {
   "cell_type": "code",
   "execution_count": 48,
   "metadata": {},
   "outputs": [
    {
     "name": "stdout",
     "output_type": "stream",
     "text": [
      "The original list is: [10, 20, [300, 400, [5000, 6000], 500], 30, 40]\n",
      "[10, 20, [300, 400, [5000, 6000, 7000], 500], 30, 40]\n"
     ]
    }
   ],
   "source": [
    "original_List=[10, 20, [300, 400, [5000, 6000], 500], 30, 40]\n",
    "print('The original list is:', original_List)\n",
    "\n",
    "def find_Element(data,valueToSearch,valueToReplace):\n",
    "    if(type(data) is list):\n",
    "        for elem in data:\n",
    "            if(find_Element(elem,valueToSearch,valueToReplace)):\n",
    "                data.insert(data.index(elem)+1,valueToReplace)\n",
    "    elif(type(data) is int and data==valueToSearch):\n",
    "        return True\n",
    "        \n",
    "find_Element(original_List,6000,7000)\n",
    "print('The expected list is:',original_List)\n"
   ]
  },
  {
   "cell_type": "code",
   "execution_count": 12,
   "metadata": {},
   "outputs": [
    {
     "name": "stdout",
     "output_type": "stream",
     "text": [
      "The original list is: [10, 20, [300, 400, [5000, 6000], 500], 30, 40]\n",
      "The expected list is: [10, 20, [300, 400, [5000, 6000, 7000], 500], 30, 40]\n"
     ]
    }
   ],
   "source": []
  },
  {
   "cell_type": "markdown",
   "metadata": {},
   "source": [
    "## Exercise Question 5: Given a nested list extend it with adding sub list [\"h\", \"i\", \"j\"] in a such a way that it will look like the"
   ]
  },
  {
   "cell_type": "code",
   "execution_count": 14,
   "metadata": {},
   "outputs": [
    {
     "name": "stdout",
     "output_type": "stream",
     "text": [
      "The original List is: ['a', 'b', ['c', ['d', 'e', ['f', 'g'], 'k'], 'l'], 'm', 'n']\n",
      "The expected result is: ['a', 'b', ['c', ['d', 'e', ['f', 'g', 'h', 'i', 'j'], 'k'], 'l'], 'm', 'n']\n"
     ]
    }
   ],
   "source": []
  },
  {
   "cell_type": "markdown",
   "metadata": {},
   "source": [
    "## Exercise Question 6: Given a Python list, find value 20 in the list, and if it is present, replace it with 200. Only update the first occurrence of a value"
   ]
  },
  {
   "cell_type": "code",
   "execution_count": 15,
   "metadata": {},
   "outputs": [
    {
     "name": "stdout",
     "output_type": "stream",
     "text": [
      "The original list is: [5, 10, 15, 20, 25, 50, 20]\n",
      "The expected output is: [5, 10, 15, 200, 25, 50, 20]\n"
     ]
    }
   ],
   "source": []
  },
  {
   "cell_type": "code",
   "execution_count": 54,
   "metadata": {},
   "outputs": [
    {
     "name": "stdout",
     "output_type": "stream",
     "text": [
      "The original list is: [5, 10, 15, 20, 25, 50, 20]\n",
      "The expected output is: [5, 10, 15, 200, 20, 25, 50, 20]\n"
     ]
    }
   ],
   "source": [
    "original_List=[5, 10, 15, 20, 25, 50, 20]\n",
    "print('The original list is:', original_List)\n",
    "search_Value=20\n",
    "original_List.insert(original_List.index(search_Value) if search_Value in original_List else -1,200)\n",
    "print('The expected output is:', original_List)"
   ]
  }
 ],
 "metadata": {
  "kernelspec": {
   "display_name": "Python 3",
   "language": "python",
   "name": "python3"
  },
  "language_info": {
   "codemirror_mode": {
    "name": "ipython",
    "version": 3
   },
   "file_extension": ".py",
   "mimetype": "text/x-python",
   "name": "python",
   "nbconvert_exporter": "python",
   "pygments_lexer": "ipython3",
   "version": "3.8.5"
  }
 },
 "nbformat": 4,
 "nbformat_minor": 4
}
